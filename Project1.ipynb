{
 "cells": [
  {
   "cell_type": "markdown",
   "id": "80ee3c52",
   "metadata": {},
   "source": [
    "## INTRODUÇÃO AO PYTHON/PANDAS - INF-0038 | Atividade 1"
   ]
  },
  {
   "cell_type": "markdown",
   "id": "9b41462e",
   "metadata": {},
   "source": [
    "👤 Nome: **Ivan Pedro Morais Saavedra** | RA: **ex164605**"
   ]
  },
  {
   "cell_type": "markdown",
   "id": "3104fdbb",
   "metadata": {},
   "source": [
    "#### <span style=\"color:green\"> - Exercicios 1<span>"
   ]
  },
  {
   "cell_type": "code",
   "execution_count": 21,
   "id": "178e1d6e",
   "metadata": {},
   "outputs": [
    {
     "name": "stdout",
     "output_type": "stream",
     "text": [
      "Digite o 1° valor: 22\n",
      "Digite o 2° valor: 22\n",
      "-------------\n",
      "- Comparar -\n",
      "22 é maior e/ou igual a 22\n",
      "- Primo -\n",
      "Valor 1:  (22, 'não é primo')\n",
      "Valor 2:  (22, 'não é primo')\n",
      "- Ver Letra -\n",
      "Digite uma letra: A\n",
      "a é uma vogal\n"
     ]
    }
   ],
   "source": [
    " \n",
    "def main():\n",
    "    value1 = isNumero(input(\"Digite o 1° valor: \"))\n",
    "    value2 = isNumero(input(\"Digite o 2° valor: \"))\n",
    "    print(\"-------------\")\n",
    "    print(\"- Comparar -\")\n",
    "    print(IsMaior(value1, value2))\n",
    "    print(\"- Primo -\")\n",
    "    print(\"Valor 1: \", IsPrimo(int(value1)))\n",
    "    print(\"Valor 2: \", IsPrimo(int(value2)))\n",
    "    print(\"- Ver Letra -\")\n",
    "    print(IsTipoLetra(input(\"Digite uma letra: \")))\n",
    "\n",
    "          \n",
    "# 1 expressão\n",
    "def isNumero(valor):\n",
    "    isNumeric = valor.isdigit()\n",
    "    if (isNumeric == False):\n",
    "        while isNumeric is False:\n",
    "            valor = input(\"O valor digitado não é um numero, digite novamente: \")\n",
    "            isNumeric = valor.isdigit()\n",
    "    return valor\n",
    "\n",
    "# 2 expressão\n",
    "def isLetra(valor):\n",
    "        \n",
    "    valor.strip()   \n",
    "    tamanho = len(valor)\n",
    "    \n",
    "    while tamanho > 1 or valor.isdigit() is True:\n",
    "        valor = str(input(\"O valor digitado deve conter apenas 1 caracter e ser uma letra, digite novamente:\")).strip()\n",
    "        print(valor, len(valor))\n",
    "        tamanho = len(valor)\n",
    "        isNumeric = valor.isdigit()\n",
    "        \n",
    "    \n",
    "\n",
    "    return valor\n",
    "\n",
    "# 3 Expressão          \n",
    "def IsMaior(valor1, valor2):\n",
    "    resultado = \"\"\n",
    "    if valor1 >= valor2:\n",
    "        return valor1 + \" é maior e/ou igual a \" + valor2\n",
    "    elif valor1 <= valor2:\n",
    "        return valor1 + \" é menor e/ou igual a \" + valor2\n",
    "    \n",
    "# 4 Expressão\n",
    "def IsPrimo(numero):\n",
    "    if numero <= 1:\n",
    "        return false\n",
    "    \n",
    "    for i in range(2, numero//2):\n",
    "        if (numero % i) == 0 or (numero % 5) == 0:\n",
    "            return numero, \"não é primo\"\n",
    "            break\n",
    "        else:\n",
    "            return numero, \"é primo\"\n",
    "\n",
    "# 5 Expressão\n",
    "def IsTipoLetra(letra):\n",
    "    \n",
    "    letra = letra.lower()\n",
    "    vogais = [\"a\",\"e\",\"i\",\"o\",\"u\"]\n",
    "    isLetra(letra)\n",
    "    \n",
    "    for n in vogais:\n",
    "        if n == letra:\n",
    "            return letra +\" é uma vogal\"\n",
    "        else:\n",
    "            return letra +\" é uma consoante\"\n",
    "    \n",
    "    \n",
    "    \n",
    "if __name__ == '__main__':\n",
    "    main()\n",
    "    "
   ]
  },
  {
   "cell_type": "markdown",
   "id": "735cdbdc",
   "metadata": {},
   "source": [
    "#### <span style=\"color:green\"> - Exercicios 2<span>"
   ]
  },
  {
   "cell_type": "code",
   "execution_count": 66,
   "id": "5e339ccf",
   "metadata": {},
   "outputs": [
    {
     "name": "stdout",
     "output_type": "stream",
     "text": [
      "O Texto a se trabalhar é:  Introdução ao Python e Pandas\n",
      "Lista das palavras:  ['Introdução', 'ao', 'Python', 'e', 'Pandas']\n",
      "<enumerate object at 0x0000017FBCB0DC80>\n",
      "Palavra:  ['Introdução']\n",
      "Tamanho: 10\n",
      "Palavra invertida:  oãçudortnI\n",
      "+-----------------+\n",
      "Palavra:  ['ao']\n",
      "Tamanho: 2\n",
      "Palavra invertida:  oa\n",
      "+-----------------+\n",
      "Palavra:  ['Python']\n",
      "Tamanho: 6\n",
      "Palavra invertida:  nohtyP\n",
      "+-----------------+\n",
      "Palavra:  ['e']\n",
      "Tamanho: 1\n",
      "Palavra invertida:  e\n",
      "+-----------------+\n",
      "Palavra:  ['Pandas']\n",
      "Tamanho: 6\n",
      "Palavra invertida:  sadnaP\n",
      "+-----------------+\n"
     ]
    }
   ],
   "source": [
    "def main():\n",
    "    \n",
    "    texto = \"Introdução ao Python e Pandas\"\n",
    "    print(\"O Texto a se trabalhar é: \",texto)\n",
    "    \n",
    "    lista_palavras=texto.split()\n",
    "    \n",
    "    print(\"Lista das palavras: \", lista_palavras)\n",
    "    print(enumerate(lista_palavras))\n",
    "    \n",
    "    for i,palavra in enumerate(lista_palavras):\n",
    "        print(\"Palavra: \", lista_palavras[i:i+1])\n",
    "        print(\"Tamanho:\", len(palavra))\n",
    "        palavra_invertida = list(palavra)\n",
    "        print(\"Palavra invertida: \", \"\".join(palavra_invertida[::-1]))\n",
    "        print(\"+-----------------+\")\n",
    "    \n",
    "    \n",
    "\n",
    "    \n",
    "if __name__ == '__main__':\n",
    "    main()"
   ]
  },
  {
   "cell_type": "code",
   "execution_count": null,
   "id": "73b5c5aa",
   "metadata": {},
   "outputs": [],
   "source": []
  },
  {
   "cell_type": "code",
   "execution_count": null,
   "id": "f857ee4d",
   "metadata": {},
   "outputs": [],
   "source": []
  }
 ],
 "metadata": {
  "kernelspec": {
   "display_name": "Python 3 (ipykernel)",
   "language": "python",
   "name": "python3"
  },
  "language_info": {
   "codemirror_mode": {
    "name": "ipython",
    "version": 3
   },
   "file_extension": ".py",
   "mimetype": "text/x-python",
   "name": "python",
   "nbconvert_exporter": "python",
   "pygments_lexer": "ipython3",
   "version": "3.9.12"
  }
 },
 "nbformat": 4,
 "nbformat_minor": 5
}
