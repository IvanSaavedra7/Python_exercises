{
 "cells": [
  {
   "cell_type": "markdown",
   "id": "80ee3c52",
   "metadata": {},
   "source": [
    "## INTRODUÇÃO AO PYTHON/PANDAS - INF-0038 | Atividade 1"
   ]
  },
  {
   "cell_type": "markdown",
   "id": "9b41462e",
   "metadata": {},
   "source": [
    "👤 Nome: **Ivan Pedro Morais Saavedra** | RA: **ex164605**"
   ]
  },
  {
   "cell_type": "markdown",
   "id": "3104fdbb",
   "metadata": {},
   "source": [
    "#### <span style=\"color:green\"> - Exercicios 1<span>"
   ]
  },
  {
   "cell_type": "code",
   "execution_count": 21,
   "id": "178e1d6e",
   "metadata": {},
   "outputs": [
    {
     "name": "stdout",
     "output_type": "stream",
     "text": [
      "Digite o 1° valor: 22\n",
      "Digite o 2° valor: 22\n",
      "-------------\n",
      "- Comparar -\n",
      "22 é maior e/ou igual a 22\n",
      "- Primo -\n",
      "Valor 1:  (22, 'não é primo')\n",
      "Valor 2:  (22, 'não é primo')\n",
      "- Ver Letra -\n",
      "Digite uma letra: A\n",
      "a é uma vogal\n"
     ]
    }
   ],
   "source": [
    " \n",
    "def main():\n",
    "    value1 = isNumero(input(\"Digite o 1° valor: \"))\n",
    "    value2 = isNumero(input(\"Digite o 2° valor: \"))\n",
    "    print(\"-------------\")\n",
    "    print(\"- Comparar -\")\n",
    "    print(IsMaior(value1, value2))\n",
    "    print(\"- Primo -\")\n",
    "    print(\"Valor 1: \", IsPrimo(int(value1)))\n",
    "    print(\"Valor 2: \", IsPrimo(int(value2)))\n",
    "    print(\"- Ver Letra -\")\n",
    "    print(IsTipoLetra(input(\"Digite uma letra: \")))\n",
    "\n",
    "          \n",
    "# 1 expressão\n",
    "def isNumero(valor):\n",
    "    isNumeric = valor.isdigit()\n",
    "    if (isNumeric == False):\n",
    "        while isNumeric is False:\n",
    "            valor = input(\"O valor digitado não é um numero, digite novamente: \")\n",
    "            isNumeric = valor.isdigit()\n",
    "    return valor\n",
    "\n",
    "# 2 expressão\n",
    "def isLetra(valor):\n",
    "        \n",
    "    valor.strip()   \n",
    "    tamanho = len(valor)\n",
    "    \n",
    "    while tamanho > 1 or valor.isdigit() is True:\n",
    "        valor = str(input(\"O valor digitado deve conter apenas 1 caracter e ser uma letra, digite novamente:\")).strip()\n",
    "        print(valor, len(valor))\n",
    "        tamanho = len(valor)\n",
    "        isNumeric = valor.isdigit()\n",
    "        \n",
    "    \n",
    "\n",
    "    return valor\n",
    "\n",
    "# 3 Expressão          \n",
    "def IsMaior(valor1, valor2):\n",
    "    resultado = \"\"\n",
    "    if valor1 >= valor2:\n",
    "        return valor1 + \" é maior e/ou igual a \" + valor2\n",
    "    elif valor1 <= valor2:\n",
    "        return valor1 + \" é menor e/ou igual a \" + valor2\n",
    "    \n",
    "# 4 Expressão\n",
    "def IsPrimo(numero):\n",
    "    if numero <= 1:\n",
    "        return false\n",
    "    \n",
    "    for i in range(2, numero//2):\n",
    "        if (numero % i) == 0 or (numero % 5) == 0:\n",
    "            return numero, \"não é primo\"\n",
    "            break\n",
    "        else:\n",
    "            return numero, \"é primo\"\n",
    "\n",
    "# 5 Expressão\n",
    "def IsTipoLetra(letra):\n",
    "    \n",
    "    letra = letra.lower()\n",
    "    vogais = [\"a\",\"e\",\"i\",\"o\",\"u\"]\n",
    "    isLetra(letra)\n",
    "    \n",
    "    for n in vogais:\n",
    "        if n == letra:\n",
    "            return letra +\" é uma vogal\"\n",
    "        else:\n",
    "            return letra +\" é uma consoante\"\n",
    "    \n",
    "    \n",
    "    \n",
    "if __name__ == '__main__':\n",
    "    main()\n",
    "    "
   ]
  },
  {
   "cell_type": "markdown",
   "id": "735cdbdc",
   "metadata": {},
   "source": [
    "#### <span style=\"color:green\"> - Exercicios 2<span>"
   ]
  },
  {
   "cell_type": "code",
   "execution_count": 2,
   "id": "5e339ccf",
   "metadata": {},
   "outputs": [
    {
     "name": "stdout",
     "output_type": "stream",
     "text": [
      "O Texto a se trabalhar é:  Introdução ao Python e Pandas\n",
      "Lista das palavras:  ['Introdução', 'ao', 'Python', 'e', 'Pandas']\n",
      "+-----------------+\n",
      "Palavra:  ['Introdução']\n",
      "Tamanho: 10\n",
      "Palavra invertida:  oãçudortnI\n",
      "+-----------------+\n",
      "Palavra:  ['ao']\n",
      "Tamanho: 2\n",
      "Palavra invertida:  oa\n",
      "+-----------------+\n",
      "Palavra:  ['Python']\n",
      "Tamanho: 6\n",
      "Palavra invertida:  nohtyP\n",
      "+-----------------+\n",
      "Palavra:  ['e']\n",
      "Tamanho: 1\n",
      "Palavra invertida:  e\n",
      "+-----------------+\n",
      "Palavra:  ['Pandas']\n",
      "Tamanho: 6\n",
      "Palavra invertida:  sadnaP\n",
      "+-----------------+\n"
     ]
    }
   ],
   "source": [
    "def main():\n",
    "    \n",
    "    texto = \"Introdução ao Python e Pandas\"\n",
    "    print(\"O Texto a se trabalhar é: \",texto)\n",
    "    \n",
    "    lista_palavras=texto.split()\n",
    "    \n",
    "    print(\"Lista das palavras: \", lista_palavras)\n",
    "            \n",
    "    print(\"+-----------------+\")\n",
    "\n",
    "    for i,palavra in enumerate(lista_palavras):\n",
    "        print(\"Palavra: \", lista_palavras[i:i+1])\n",
    "        print(\"Tamanho:\", len(palavra))\n",
    "        palavra_invertida = list(palavra)\n",
    "        print(\"Palavra invertida: \", \"\".join(palavra_invertida[::-1]))\n",
    "        print(\"+-----------------+\")\n",
    "    \n",
    "    \n",
    "\n",
    "    \n",
    "if __name__ == '__main__':\n",
    "    main()"
   ]
  },
  {
   "cell_type": "markdown",
   "id": "1358acf7",
   "metadata": {},
   "source": [
    "#### <span style=\"color:green\"> - Exercicios 3<span>"
   ]
  },
  {
   "cell_type": "code",
   "execution_count": 4,
   "id": "f857ee4d",
   "metadata": {},
   "outputs": [
    {
     "name": "stdout",
     "output_type": "stream",
     "text": [
      "Digite o 1° numero: 25\n",
      "Digite o 2° numero: 47\n",
      "Digite o 3° numero: 417\n",
      "Digite o 4° numero: 41\n",
      "Digite o 5° numero: 147\n",
      "Lista montada:  [25, 47, 417, 41, 147]\n",
      "+-----------------+\n",
      "Lista ordenada:  [25, 41, 47, 147, 417]\n"
     ]
    }
   ],
   "source": [
    "def main():\n",
    "    \n",
    "    lista_numero=[]\n",
    "        \n",
    "    i=1\n",
    "    while i <= 5:\n",
    "        valor = isNumero(input(f\"Digite o {i:d}° numero: \"))\n",
    "        lista_numero.append(int(valor))\n",
    "        i += 1\n",
    "\n",
    "    print(\"Lista montada: \",lista_numero)\n",
    "    lista_numero.sort()\n",
    "    print(\"+-----------------+\")\n",
    "    print(\"Lista ordenada: \",lista_numero)   \n",
    "    \n",
    "    \n",
    "    \n",
    "def isNumero(valor):\n",
    "    isNumeric = valor.isdigit()\n",
    "    if (isNumeric == False):\n",
    "        while isNumeric is False:\n",
    "            valor = input(\"O valor digitado não é um numero, digite novamente: \")\n",
    "            isNumeric = valor.isdigit()\n",
    "    return valor\n",
    "    \n",
    "if __name__ == '__main__':\n",
    "    main()"
   ]
  },
  {
   "cell_type": "markdown",
   "id": "113f7734",
   "metadata": {},
   "source": [
    "#### <span style=\"color:green\"> - Exercicios 4<span>"
   ]
  },
  {
   "cell_type": "code",
   "execution_count": 39,
   "id": "44ddb3aa",
   "metadata": {},
   "outputs": [
    {
     "name": "stdout",
     "output_type": "stream",
     "text": [
      "Tupla 1:\n",
      "('A', 4, 0.5, False, 'BO', 3)\n",
      "(4, 0.5, False, 'BO', 10)\n",
      "+--------------+\n",
      "Tupla 2:\n",
      "('Cachorro', 4, True, 'dado', 5, '7')\n",
      "('Cachorro', 4, True, 'dado', 5, 10)\n"
     ]
    }
   ],
   "source": [
    "def main():\n",
    "    \n",
    "    print(\"Tupla 1:\")\n",
    "    tupla = (\"A\", 4, 0.5, False, \"BO\", 3)\n",
    "    print(tupla)\n",
    "    tupla = tuple(tupla[1:5] + (10,))\n",
    "    print(tupla)\n",
    "\n",
    "    # pelo que vi transformando em lista tbm da certo\n",
    "    \n",
    "    print(\"+--------------+\")\n",
    "    print(\"Tupla 2:\")\n",
    "    tupla2 = (\"Cachorro\", 4 , True, \"dado\", 5, \"7\")\n",
    "    print(tupla2)\n",
    "    tupla2 = list(tupla2)\n",
    "    tupla2.pop()\n",
    "    tupla2.append(10)\n",
    "    tupla2 = tuple(tupla2)\n",
    "    print (tupla2)\n",
    "    \n",
    "    \n",
    "    \n",
    "    \n",
    "if __name__ == '__main__':\n",
    "    main()"
   ]
  },
  {
   "cell_type": "markdown",
   "id": "857ff4d1",
   "metadata": {},
   "source": [
    "#### <span style=\"color:green\"> - Exercicios 5<span>"
   ]
  },
  {
   "cell_type": "code",
   "execution_count": 25,
   "id": "9ce04a89",
   "metadata": {},
   "outputs": [
    {
     "name": "stdout",
     "output_type": "stream",
     "text": [
      "Telefone do andre:  [19981240465, 1984548254]\n",
      "Numero 1°: 19981240465\n",
      "Numero 2°: 1984548254\n",
      "{'Andre': [19981240465, 1984548254], 'Ivan': [19994101693]}\n",
      "Colocando gente nova:  {'Andre': [19981240465, 1984548254], 'Ivan': [19994101693], 'Jorgin': [184898942546]}\n",
      "Nomes da agenda:  ['Andre', 'Ivan', 'Jorgin']\n"
     ]
    }
   ],
   "source": [
    "def main():\n",
    "    \n",
    "    agenda = {'Andre': [19981240465,1984548254], 'Ivan': [19994101693], 'Andreia': [196666666]}\n",
    "\n",
    "    print(\"Telefone do andre: \", agenda[\"Andre\"])\n",
    "    i = 0\n",
    "    for numero in agenda[\"Andre\"]:\n",
    "        i +=1\n",
    "        print(f'Numero {i}°: {numero}')\n",
    "        \n",
    "    #==============================#\n",
    "    \n",
    "    del agenda[\"Andreia\"]\n",
    "    print (agenda)\n",
    "\n",
    "    #==============================#\n",
    "\n",
    "    agenda[\"Jorgin\"] = [184898942546]\n",
    "    print(\"Colocando gente nova: \", agenda)\n",
    "    \n",
    "    #==============================#\n",
    "    \n",
    "    print(\"Nomes da agenda: \", list(agenda.keys()))\n",
    "\n",
    "    \n",
    "if __name__ == '__main__':\n",
    "    main()"
   ]
  },
  {
   "cell_type": "code",
   "execution_count": 133,
   "id": "d80a9fcf",
   "metadata": {},
   "outputs": [
    {
     "name": "stdout",
     "output_type": "stream",
     "text": [
      "Digite um Cpf para validação: 80951483854\n",
      "[(10, '8'), (9, '0'), (8, '9'), (7, '5'), (6, '1'), (5, '4'), (4, '8'), (3, '3'), (2, '8'), (1, '5')]\n",
      "(10, '8')\n",
      "(9, '0')\n",
      "(8, '9')\n",
      "(7, '5')\n",
      "(6, '1')\n",
      "(5, '4')\n",
      "(4, '8')\n",
      "(3, '3')\n",
      "(2, '8')\n",
      "(1, '5')\n",
      "275\n",
      "2750\n",
      "0\n"
     ]
    }
   ],
   "source": [
    "def main():\n",
    "    \n",
    "\n",
    "    cpf = isNumeroCpf(input(\"Digite um Cpf para validação: \"))\n",
    "    \n",
    "    validacao_1(cpf)\n",
    "    \n",
    "    \n",
    "def validarCPF(cpf):\n",
    "    \n",
    "    if(validacao_1(cpf) == 0 or validacao_2 == 0):\n",
    "        return \"Cpf invalido: \" + formatarCpf(cpf)\n",
    "    else:\n",
    "        return \"Cpf valido: \" + formatarCpf(cpf)\n",
    "\n",
    "def validacao_1(cpf):\n",
    "    \n",
    "    lista_tupla =(10,9,8,7,6,5,4,3,2,1)\n",
    "    uniao  = list(zip(lista_tupla, cpf))\n",
    "    \n",
    "    produto = 0\n",
    "    i = 0\n",
    "    print(uniao)\n",
    "    while i <=9:\n",
    "        print(uniao[i])\n",
    "        fator_numCpf = uniao[i]\n",
    "        produto += fator_numCpf[0] * int(fator_numCpf[1])\n",
    "        i +=1\n",
    "      \n",
    "    print(produto)\n",
    "    \n",
    "    valor1 = (produto*10) \n",
    "    valor2 = valor1 % 11\n",
    "    print(valor1)\n",
    "    print(valor2)\n",
    "    \n",
    "    \n",
    "def formatarCpf(cpf):\n",
    "    if len(cpf) < 11:\n",
    "        cpf = cpf.zfill(11)\n",
    "    cpf = '{}.{}.{}-{}'.format(cpf[:3], cpf[3:6], cpf[6:9], cpf[9:])\n",
    "    \n",
    "    return cpf\n",
    "    \n",
    "def isNumeroCpf(valor):\n",
    "    isNumeric = valor.isdigit()    \n",
    "    while isNumeric is False or len(valor) < 11:\n",
    "        valor = input(\"O valor digitado tem que ser um numero e conter 11 caracteris, digite novamente: \")\n",
    "        isNumeric = valor.isdigit()\n",
    "            \n",
    "    return valor\n",
    "\n",
    "if __name__ == '__main__':\n",
    "    main()"
   ]
  },
  {
   "cell_type": "code",
   "execution_count": null,
   "id": "9bd09066",
   "metadata": {},
   "outputs": [],
   "source": []
  },
  {
   "cell_type": "code",
   "execution_count": null,
   "id": "c02f4dcb",
   "metadata": {},
   "outputs": [],
   "source": [
    "a\n"
   ]
  }
 ],
 "metadata": {
  "kernelspec": {
   "display_name": "Python 3 (ipykernel)",
   "language": "python",
   "name": "python3"
  },
  "language_info": {
   "codemirror_mode": {
    "name": "ipython",
    "version": 3
   },
   "file_extension": ".py",
   "mimetype": "text/x-python",
   "name": "python",
   "nbconvert_exporter": "python",
   "pygments_lexer": "ipython3",
   "version": "3.9.12"
  }
 },
 "nbformat": 4,
 "nbformat_minor": 5
}
